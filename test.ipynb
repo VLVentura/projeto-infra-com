{
 "cells": [
  {
   "cell_type": "code",
   "execution_count": 282,
   "id": "8d6d38cf",
   "metadata": {
    "collapsed": false
   },
   "outputs": [],
   "source": [
    "#+begin_src ein\n",
    "#+end_src\n",
    "#\n",
    "from IPython.display import *\n"
   ]
  },
  {
   "cell_type": "code",
   "execution_count": 146,
   "id": "fdcd0cd1",
   "metadata": {
    "collapsed": false
   },
   "outputs": [],
   "source": [
    "from checksum import *\n",
    "import pytest\n",
    "import packet2\n",
    "from hypothesis import *\n",
    "from hypothesis import given\n",
    "from hypothesis.strategies import *\n",
    "from ctypes import  c_uint8 as unsigned_byte"
   ]
  },
  {
   "cell_type": "code",
   "execution_count": 232,
   "id": "cc6ad4c9",
   "metadata": {
    "collapsed": false
   },
   "outputs": [],
   "source": [
    "    def __sum_bytes(acc:int,act:int):\n",
    "        return acc + act\n",
    "    def inv(acc:str, act:str):\n",
    "        if act == '1':\n",
    "            acc =  acc + '0'\n",
    "        elif act == '0':\n",
    "            acc = acc + '1'\n",
    "        return acc\n",
    "    def pprint(b:bytearray):\n",
    "        print(bin(int.from_bytes(b, byteorder=sys.byteorder)))"
   ]
  },
  {
   "cell_type": "code",
   "execution_count": 252,
   "id": "d8b8ed02",
   "metadata": {
    "collapsed": false
   },
   "outputs": [
    {
     "name": "stdout",
     "output_type": "stream",
     "text": [
      "[bytearray(b'\\x92'), bytearray(b'E'), bytearray(b'\\x9a'), bytearray(b'i'), bytearray(b'\\x97'), bytearray(b'E')]\n",
      "[146, 69, 154, 105, 151, 69]\n",
      "b'1010110110'\n",
      "b'1101001001'\n"
     ]
    }
   ],
   "source": [
    "seq_unit = from_type(bytearray).filter(lambda x: len(x) == 1)\n",
    "seq_list = lists(seq_unit,min_size=6,max_size=6).example()\n",
    "bin(int.from_bytes(seq_list[0], byteorder=sys.byteorder))\n",
    "bdata = [(int.from_bytes(seq_list[x], byteorder=sys.byteorder)) for x in range(len(seq_list))]\n",
    "print(seq_list)\n",
    "print([bdata[x] for x in range(len(bdata))])\n",
    "code = bin(reduce(__sum_bytes, bdata))\n",
    "print(code[2:].encode('utf-8'))\n",
    "code2 = reduce(inv,code[2:])\n",
    "print(code2.encode('utf-8'))\n",
    "# print(bin(code))\n",
    "# print([('1' if x==0 else '0') for x in code[2:]])\n",
    "# bin(~(int(code,2)) % (1 << (len(code))))"
   ]
  }
 ],
 "metadata": {
  "kernelspec": {
   "argv": [
    "python",
    "-m",
    "ipykernel_launcher",
    "-f",
    "{connection_file}"
   ],
   "display_name": "Python 3 (ipykernel)",
   "env": null,
   "interrupt_mode": "signal",
   "language": "python",
   "metadata": {
    "debugger": true
   },
   "name": "python3"
  },
  "language_info": {
   "codemirror_mode": {
    "name": "ipython",
    "version": 3
   },
   "file_extension": ".py",
   "mimetype": "text/x-python",
   "name": "python",
   "nbconvert_exporter": "python",
   "pygments_lexer": "ipython3",
   "version": "3.9.0"
  },
  "name": "test.ipynb"
 },
 "nbformat": 4,
 "nbformat_minor": 5
}
